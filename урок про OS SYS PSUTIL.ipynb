{
 "cells": [
  {
   "cell_type": "markdown",
   "metadata": {},
   "source": [
    "*21.01"
   ]
  },
  {
   "cell_type": "code",
   "execution_count": 41,
   "metadata": {},
   "outputs": [
    {
     "name": "stdout",
     "output_type": "stream",
     "text": [
      " New edu programm \n",
      "\n",
      " Привет программист!\n",
      "\n",
      "Ваше имя:y\n",
      "y , добро пожаловать в мир Python!\n",
      "\n",
      "Давай поработаем? y/ny\n",
      "\n",
      "Отлично!\n",
      "              \n",
      "Я могу: \n",
      "1 - смотреть текущую директорию\n",
      "2 - смотреть системное окружение\n",
      "3 - смотреть список процессов\n",
      "4 - дублировать все файлы\n",
      "5 - дублировать один файл\n",
      "6 - удалить дубликаты\n",
      "\n",
      "Что будем делать?6\n",
      "Текущий каталог: /Users/daniilstv/Documents/py Изменить? y/n\n",
      "n\n",
      "Удаляю все дубли\n",
      "Всего файлов -  8\n",
      "['del_Untitled.ipynb', '.DS_Store', 'test', 'test.dupl', 'test.dupl.dupl', 'урок про OS SYS PSUTIL.ipynb', '.ipynb_checkpoints', 'py.py']\n",
      "____\n",
      "3 - test.dupl\n",
      "файл test.dupl удален\n",
      "4 - test.dupl.dupl\n",
      "файл test.dupl.dupl удален\n",
      "['del_Untitled.ipynb', '.DS_Store', 'test', 'урок про OS SYS PSUTIL.ipynb', '.ipynb_checkpoints', 'py.py']\n",
      "done\n",
      "\n",
      "Давай поработаем? y/ny\n",
      "\n",
      "Отлично!\n",
      "              \n",
      "Я могу: \n",
      "1 - смотреть текущую директорию\n",
      "2 - смотреть системное окружение\n",
      "3 - смотреть список процессов\n",
      "4 - дублировать все файлы\n",
      "5 - дублировать один файл\n",
      "6 - удалить дубликаты\n",
      "\n",
      "Что будем делать?6\n",
      "Текущий каталог: /Users/daniilstv/Documents/py Изменить? y/n\n",
      "y\n",
      "укажите путь и папку/Users/daniilstv\n",
      "Удаляю все дубли\n",
      "Всего файлов -  36\n",
      "['.config', 'Music', '.condarc', '.anyconnect', '.DS_Store', 'VirtualBox VMs', '.CFUserTextEncoding', '.local', 'Pictures', '.pylint.d', '.ipython', 'Desktop', 'Library', '.matplotlib', '.lesshst', '.oracle_jre_usage', '.spyder-py3', '.bash_sessions', 'Public', '.cisco', '.anaconda', '.ssh', 'Movies', 'Applications', '.Trash', '.jupyter', 'Documents', '.vscode', '.bash_profile', 'anaconda3', 'Downloads', '.python_history', '.cache', '.gitconfig', '.bash_history', '.conda']\n",
      "____\n",
      "['.config', 'Music', '.condarc', '.anyconnect', '.DS_Store', 'VirtualBox VMs', '.CFUserTextEncoding', '.local', 'Pictures', '.pylint.d', '.ipython', 'Desktop', 'Library', '.matplotlib', '.lesshst', '.oracle_jre_usage', '.spyder-py3', '.bash_sessions', 'Public', '.cisco', '.anaconda', '.ssh', 'Movies', 'Applications', '.Trash', '.jupyter', 'Documents', '.vscode', '.bash_profile', 'anaconda3', 'Downloads', '.python_history', '.cache', '.gitconfig', '.bash_history', '.conda']\n",
      "done\n",
      "\n",
      "Давай поработаем? y/ny\n",
      "\n",
      "Отлично!\n",
      "              \n",
      "Я могу: \n",
      "1 - смотреть текущую директорию\n",
      "2 - смотреть системное окружение\n",
      "3 - смотреть список процессов\n",
      "4 - дублировать все файлы\n",
      "5 - дублировать один файл\n",
      "6 - удалить дубликаты\n",
      "\n",
      "Что будем делать?5\n",
      "Текущий каталог: /Users/daniilstv\n",
      "['.config', 'Music', '.condarc', '.anyconnect', '.DS_Store', 'VirtualBox VMs', '.CFUserTextEncoding', '.local', 'Pictures', '.pylint.d', '.ipython', 'Desktop', 'Library', '.matplotlib', '.lesshst', '.oracle_jre_usage', '.spyder-py3', '.bash_sessions', 'Public', '.cisco', '.anaconda', '.ssh', 'Movies', 'Applications', '.Trash', '.jupyter', 'Documents', '.vscode', '.bash_profile', 'anaconda3', 'Downloads', '.python_history', '.cache', '.gitconfig', '.bash_history', '.conda']\n",
      "какой по счету файл продублировать?r\n"
     ]
    },
    {
     "ename": "ValueError",
     "evalue": "invalid literal for int() with base 10: 'r'",
     "output_type": "error",
     "traceback": [
      "\u001b[0;31m---------------------------------------------------------------------------\u001b[0m",
      "\u001b[0;31mValueError\u001b[0m                                Traceback (most recent call last)",
      "\u001b[0;32m<ipython-input-41-7ba712bfa0c3>\u001b[0m in \u001b[0;36m<module>\u001b[0;34m\u001b[0m\n\u001b[1;32m     59\u001b[0m             \u001b[0mfile_list\u001b[0m \u001b[0;34m=\u001b[0m \u001b[0mos\u001b[0m\u001b[0;34m.\u001b[0m\u001b[0mlistdir\u001b[0m\u001b[0;34m(\u001b[0m\u001b[0;34m)\u001b[0m\u001b[0;34m\u001b[0m\u001b[0;34m\u001b[0m\u001b[0m\n\u001b[1;32m     60\u001b[0m             \u001b[0mprint\u001b[0m\u001b[0;34m(\u001b[0m\u001b[0mfile_list\u001b[0m\u001b[0;34m)\u001b[0m\u001b[0;34m\u001b[0m\u001b[0;34m\u001b[0m\u001b[0m\n\u001b[0;32m---> 61\u001b[0;31m             \u001b[0mn_del_file\u001b[0m \u001b[0;34m=\u001b[0m \u001b[0mint\u001b[0m\u001b[0;34m(\u001b[0m\u001b[0minput\u001b[0m\u001b[0;34m(\u001b[0m\u001b[0;34m\"какой по счету файл продублировать?\"\u001b[0m\u001b[0;34m)\u001b[0m\u001b[0;34m)\u001b[0m\u001b[0;34m\u001b[0m\u001b[0;34m\u001b[0m\u001b[0m\n\u001b[0m\u001b[1;32m     62\u001b[0m             \u001b[0mnewfile\u001b[0m \u001b[0;34m=\u001b[0m \u001b[0mfile_list\u001b[0m\u001b[0;34m[\u001b[0m\u001b[0mn_del_file\u001b[0m\u001b[0;34m-\u001b[0m\u001b[0;36m1\u001b[0m\u001b[0;34m]\u001b[0m \u001b[0;34m+\u001b[0m \u001b[0;34m'.dupl'\u001b[0m\u001b[0;34m\u001b[0m\u001b[0;34m\u001b[0m\u001b[0m\n\u001b[1;32m     63\u001b[0m             \u001b[0mshutil\u001b[0m\u001b[0;34m.\u001b[0m\u001b[0mcopy\u001b[0m\u001b[0;34m(\u001b[0m\u001b[0mfile_list\u001b[0m\u001b[0;34m[\u001b[0m\u001b[0mn_del_file\u001b[0m\u001b[0;34m-\u001b[0m\u001b[0;36m1\u001b[0m\u001b[0;34m]\u001b[0m\u001b[0;34m,\u001b[0m \u001b[0mnewfile\u001b[0m\u001b[0;34m)\u001b[0m\u001b[0;34m\u001b[0m\u001b[0;34m\u001b[0m\u001b[0m\n",
      "\u001b[0;31mValueError\u001b[0m: invalid literal for int() with base 10: 'r'"
     ]
    }
   ],
   "source": [
    "import os\n",
    "import psutil\n",
    "import sys\n",
    "import shutil\n",
    "\n",
    "print(\" New edu programm\", '\\n''\\n', \"Привет программист!\"'\\n')\n",
    "name = input(\"Ваше имя:\")\n",
    "print(name, \", добро пожаловать в мир Python!\")\n",
    "answer = ''\n",
    "\n",
    "def del_dupl(path)\n",
    "\n",
    "\n",
    "\n",
    "while answer != \"q\":\n",
    "    answer = input('\\nДавай поработаем? y/n')\n",
    "\n",
    "    if answer == 'y':\n",
    "        \n",
    "        print('\\nОтлично!\\n              ')\n",
    "        print(\"Я могу: \" ) \n",
    "        print(\"1 - смотреть текущую директорию\"  )\n",
    "        print(\"2 - смотреть системное окружение\" ) \n",
    "        print(\"3 - смотреть список процессов\" ) \n",
    "        print(\"4 - дублировать все файлы\" ) \n",
    "        print(\"5 - дублировать один файл\" )      \n",
    "        print(\"6 - удалить дубликаты\\n\" )                     \n",
    "             \n",
    "        \n",
    "        answer2 = int(input(\"Что будем делать?\"))    \n",
    "        \n",
    "        #print(answer2, \"- отличный выбор!\")\n",
    "\n",
    "        if answer2 == 1:\n",
    "            print(os.listdir())  # os.getcwd()\n",
    "            \n",
    "        elif answer2 ==2:\n",
    "            print(os.getcwd(), '\\n',  # путь\n",
    "                os.name,\n",
    "                os.uname()[2], sys.platform,'\\n', # ос, версия  sys.platform\n",
    "                sys.getfilesystemencoding(),'\\n',\n",
    "                psutil.users()[1][0], os.getlogin(), '\\n', # логин\n",
    "                \n",
    "                \"количество ядер\" , psutil.cpu_count(),\n",
    "                )\n",
    "        elif answer2 == 3:\n",
    "            print(psutil.pids())\n",
    "        \n",
    "        elif answer2 == 4:\n",
    "            print(\"Дублирую файлы\")\n",
    "            file_list = os.listdir()\n",
    "            print(file_list)\n",
    "            i = 0\n",
    "            while  i < len(file_list) :\n",
    "                if os.path.isfile(file_list[i]):\n",
    "                    newfile = file_list[i] + '.dupl'\n",
    "                    shutil.copy(file_list[i], newfile)\n",
    "                    i += 1\n",
    "            print(\"done\") \n",
    "         \n",
    "        elif answer2 == 5:  # 5 - дублировать один файл\n",
    "            print(\"Текущий каталог:\", os.getcwd())\n",
    "            file_list = os.listdir() \n",
    "            print(file_list)\n",
    "            n_del_file = int(input(\"какой по счету файл продублировать?\"))\n",
    "            newfile = file_list[n_del_file-1] + '.dupl'\n",
    "            shutil.copy(file_list[n_del_file-1], newfile)\n",
    "            print(\"Ok, дублирован \", file_list[n_del_file-1])\n",
    "            \n",
    "        elif answer2 == 6:\n",
    "            print(\"Текущий каталог:\", os.getcwd(), \"Изменить? y/n\")\n",
    "            answer2_2 = input()\n",
    "            if answer2_2 == 'y':\n",
    "                    answer3_path = input(\"укажите путь и папку\")\n",
    "                    os.chdir(answer3_path)\n",
    "            \n",
    "            print(\"Удаляю все дубли\")\n",
    "            \n",
    "            file_list = os.listdir() \n",
    "            print(\"Всего файлов - \", len(file_list))\n",
    "            print(file_list)\n",
    "            # i = 0\n",
    "            # while  i < len(file_list) :\n",
    "            for f in file_list:    \n",
    "                if file_list[i].endswith('.dupl') and os.path.isfile(file_list[i]):\n",
    "                    print(i, \"-\" , file_list[i])\n",
    "                    os.remove(file_list[i])  # os.path.isfile(file_list[i]) and \n",
    "                    print('файл',file_list[i],'удален')\n",
    "                # i += 1\n",
    "            \n",
    "            file_list = os.listdir()\n",
    "            print(file_list)\n",
    "\n",
    "            print(\"done\") \n",
    "            \n",
    "        \n",
    "        \n",
    "        else:\n",
    "            pass\n",
    "    elif answer == 'n':\n",
    "        \n",
    "        print(\"До свидания!\")\n",
    "\n",
    "    else:\n",
    "        \n",
    "        print(\"Неизвестный ответ - buy!\")\n",
    "\n"
   ]
  },
  {
   "cell_type": "code",
   "execution_count": null,
   "metadata": {},
   "outputs": [],
   "source": [
    "24.01"
   ]
  },
  {
   "cell_type": "code",
   "execution_count": null,
   "metadata": {},
   "outputs": [],
   "source": [
    "import os\n",
    "import psutil\n",
    "import sys\n",
    "import shutil\n",
    "\n",
    "\n",
    "def ch_dir():\n",
    "    answer3_path = os.getcwd()\n",
    "    print(answer3_path, \"- изменить каталог выполнения операции? y/n\")\n",
    "    answer2_2 = input()  \n",
    "    if answer2_2 == 'y':\n",
    "            answer3_path = input(\"укажите путь\")   # переменная папки для удаления дубликатов\n",
    "    return answer3_path\n",
    "\n",
    "\n",
    "def del_dupl(path):  # удалить дубликаты в папке\n",
    "\n",
    "    file_list = os.listdir(path) \n",
    "    print(\"Файлов в директории - \", len(file_list))\n",
    "    print(file_list)\n",
    "    i = 0\n",
    "    for f in file_list:\n",
    "        full_name = os.path.join(path,f)\n",
    "        if f.endswith('.dupl') and os.path.isfile(f):\n",
    "            print(i, \"-\" , f)  #\n",
    "            os.remove(full_name) \n",
    "            print('файл',f,'удален')  #\n",
    "            i += 1\n",
    "    print(\"Удалено \", i, \"файлов из \" , len(file_list))  #\n",
    "    return i    \n",
    "        \n",
    "        \n",
    "def copy_file(full_name):  # дублировать один файл\n",
    "\n",
    "    newfile = full_name + '.dupl'\n",
    "    shutil.copy(full_name, newfile)\n",
    "    # добавить проверку существования нового файла\n",
    "    print(\"Ok, дублирован \", full_name)\n",
    "\n",
    "\n",
    "\n",
    "    \n",
    "print(\" New edu programm\", '\\n''\\n', \"Привет программист!\"'\\n')\n",
    "name = input(\"Ваше имя:\")\n",
    "print(name, \", добро пожаловать в мир Python!\")\n",
    "answer = ''\n",
    "\n",
    "\n",
    "while answer != \"q\":\n",
    "    answer = input('\\nДавай поработаем? y/n')\n",
    "\n",
    "    if answer == 'y':\n",
    "        \n",
    "        print('\\nОтлично!\\n              ')\n",
    "        print(\"Я могу: \" ) \n",
    "        print(\"1 - смотреть текущую директорию\"  )\n",
    "        print(\"2 - смотреть системное окружение\" ) \n",
    "        print(\"3 - смотреть список процессов\" ) \n",
    "        print(\"4 - дублировать все файлы\" ) \n",
    "        print(\"5 - дублировать один файл\" )      \n",
    "        print(\"6 - удалить дубликаты\\n\" )                     \n",
    "             \n",
    "        \n",
    "        answer2 = int(input(\"Что будем делать?\"))    \n",
    "        \n",
    "        #print(answer2, \"- отличный выбор!\")\n",
    "\n",
    "        if answer2 == 1:  # 1 - смотреть текущую директорию \n",
    "            print(os.listdir())  # os.getcwd()\n",
    "            \n",
    "        elif answer2 ==2:  # 2 - смотреть системное окружение\n",
    "            print(os.getcwd(), '\\n',  # путь\n",
    "                os.name,\n",
    "                os.uname()[2], sys.platform,'\\n', # ос, версия  sys.platform\n",
    "                sys.getfilesystemencoding(),'\\n',\n",
    "                psutil.users()[1][0], os.getlogin(), '\\n', # логин\n",
    "                \n",
    "                \"количество ядер\" , psutil.cpu_count(),\n",
    "                )\n",
    "        elif answer2 == 3:  # 3 - смотреть список процессов\n",
    "            print(psutil.pids())\n",
    "        \n",
    "        elif answer2 == 4:  # 4 - дублировать все файлы\n",
    "            print(\"Дублирую файлы\")\n",
    "            file_list = os.listdir()\n",
    "            print(file_list)\n",
    "            i = 0\n",
    "            while  i < len(file_list) :\n",
    "                if os.path.isfile(file_list[i]):\n",
    "                    newfile = file_list[i] + '.dupl'\n",
    "                    shutil.copy(file_list[i], newfile)\n",
    "                    i += 1\n",
    "            print(\"done\") \n",
    "         \n",
    "        elif answer2 == 5:  # 5 - дублировать один файл\n",
    "    \n",
    "            ch_dir()\n",
    "            \n",
    "            file_list = os.listdir(answer3_path) \n",
    "            print(file_list)\n",
    "            n_del_file = int(input(\"какой по счету файл продублировать?\"))\n",
    "            \n",
    "            full_name = os.path.join(answer3_path,file_list[n_del_file-1])\n",
    "                        \n",
    "            copy_file(full_name)\n",
    "            \n",
    "            newfile = file_list[n_del_file-1] + '.dupl'\n",
    "            shutil.copy(file_list[n_del_file-1], newfile)\n",
    "            print(\"Ok, дублирован \", file_list[n_del_file-1])\n",
    "            \n",
    "        elif answer2 == 6:  # 6 - удалить дубликаты\n",
    "        \n",
    "            ch_dir()\n",
    "            answer3_path = os.getcwd()\n",
    "            del_dupl(answer3_path)\n",
    "            \n",
    "            print(\"Удалено \", i, \"файлов из \" , len(file_list))  #\n",
    "            print(file_list)\n",
    "            print(\"done\") \n",
    "        \n",
    "        else:\n",
    "            pass\n",
    "    elif answer == 'n':\n",
    "        \n",
    "        print(\"До свидания!\")\n",
    "\n",
    "    else:\n",
    "        \n",
    "        print(\"Неизвестный ответ - buy!\")"
   ]
  },
  {
   "cell_type": "code",
   "execution_count": 22,
   "metadata": {},
   "outputs": [
    {
     "name": "stdout",
     "output_type": "stream",
     "text": [
      "['del_Untitled.ipynb', '.DS_Store.dupl', '.DS_Store', 'test', 'test.dupl', 'урок про OS SYS PSUTIL.ipynb', 'урок про OS SYS PSUTIL.ipynb.dupl', 'del_Untitled.ipynb.dupl', '.ipynb_checkpoints', 'py.py']\n",
      "____\n",
      "1 - .DS_Store.dupl\n",
      "4 - test.dupl\n",
      "6 - урок про OS SYS PSUTIL.ipynb.dupl\n",
      "7 - del_Untitled.ipynb.dupl\n"
     ]
    }
   ],
   "source": [
    "file_list = os.listdir() \n",
    "print(file_list)\n",
    "i = 0\n",
    "\n",
    "print(\"____\")\n",
    "\n",
    "while  i < len(file_list) :\n",
    "                if file_list[i].endswith('.dupl'):\n",
    "                    print(i, \"-\" , file_list[i])\n",
    "                    os.remove(file_list[i])  # os.path.isfile(file_list[i]) and \n",
    "                i += 1\n"
   ]
  },
  {
   "cell_type": "code",
   "execution_count": 33,
   "metadata": {},
   "outputs": [
    {
     "name": "stdout",
     "output_type": "stream",
     "text": [
      "Текущий каталог: /Users/daniilstv/Documents/py\n",
      "['del_Untitled.ipynb', '.DS_Store', 'test', 'test.dupl', 'test.dupl.dupl', 'урок про OS SYS PSUTIL.ipynb', '.ipynb_checkpoints', 'py.py']\n",
      "какой по счету файл продублировать?3\n",
      "Ok, дублирован  test\n"
     ]
    }
   ],
   "source": [
    "print(\"Текущий каталог:\", os.getcwd())\n",
    "file_list = os.listdir() \n",
    "print(file_list)\n",
    "n_del_file = int(input(\"какой по счету файл продублировать?\"))\n",
    "#filename = file_list[n_del_file-1]\n",
    "newfile = file_list[n_del_file-1] + '.dupl'\n",
    "shutil.copy(file_list[n_del_file-1], newfile)\n",
    "print(\"Ok, дублирован \", file_list[n_del_file-1])"
   ]
  },
  {
   "cell_type": "code",
   "execution_count": 30,
   "metadata": {},
   "outputs": [
    {
     "ename": "SyntaxError",
     "evalue": "invalid syntax (<ipython-input-30-e1bbb83e9e3e>, line 11)",
     "output_type": "error",
     "traceback": [
      "\u001b[0;36m  File \u001b[0;32m\"<ipython-input-30-e1bbb83e9e3e>\"\u001b[0;36m, line \u001b[0;32m11\u001b[0m\n\u001b[0;31m    if file_list[i]endswith(.dupl):  #**окончена на дубль:\u001b[0m\n\u001b[0m                          ^\u001b[0m\n\u001b[0;31mSyntaxError\u001b[0m\u001b[0;31m:\u001b[0m invalid syntax\n"
     ]
    }
   ],
   "source": [
    "            print(\"Текущий каталог:\",  os.getcwd())\n",
    "    \n",
    "            #answer3_path = int(input(\"укажите путь и папку\"))  os.listdir()\n",
    "        \n",
    "            print(\"Удаляю все дубли\")\n",
    "            \n",
    "            file_list = os.listdir()\n",
    "            #print(file_list)\n",
    "            i = 0\n",
    "            while  i < len(file_list) :\n",
    "                if file_list[i]endswith(.dupl):  #**окончена на дубль:\n",
    "                        \n",
    "                    os.remove(file_list[i])\n",
    "                    \n",
    "                i += 1\n",
    "            print(\"done\") "
   ]
  },
  {
   "cell_type": "code",
   "execution_count": 102,
   "metadata": {},
   "outputs": [
    {
     "data": {
      "text/plain": [
       "'utf-8'"
      ]
     },
     "execution_count": 102,
     "metadata": {},
     "output_type": "execute_result"
    }
   ],
   "source": [
    "def del_dupl_file(path):\n",
    "            file_list = os.listdir() \n",
    "            print(\"Всего файлов - \", len(file_list))\n",
    "            print(file_list)\n",
    "            # i = 0\n",
    "            # while  i < len(file_list) :\n",
    "            for f in file_list:    \n",
    "                if file_list[i].endswith('.dupl') and os.path.isfile(file_list[i]):\n",
    "                    print(i, \"-\" , file_list[i])\n",
    "                    os.remove(file_list[i])  # os.path.isfile(file_list[i]) and \n",
    "                    print('файл',file_list[i],'удален')\n",
    "                # i += 1\n",
    "            \n",
    "            file_list = os.listdir()\n",
    "            print(file_list)\n",
    "\n",
    "            print(\"done\") \n",
    "\n"
   ]
  },
  {
   "cell_type": "code",
   "execution_count": 105,
   "metadata": {},
   "outputs": [
    {
     "data": {
      "text/plain": [
       "'/Users/daniilstv/Documents/py'"
      ]
     },
     "execution_count": 105,
     "metadata": {},
     "output_type": "execute_result"
    }
   ],
   "source": [
    "os.getcwd()"
   ]
  },
  {
   "cell_type": "code",
   "execution_count": 40,
   "metadata": {},
   "outputs": [
    {
     "name": "stdout",
     "output_type": "stream",
     "text": [
      "Текущий каталог: /Users/daniilstv/Documents/py Изменить? y/n\n",
      "y\n",
      "укажите путь и папкуqqq\n"
     ]
    },
    {
     "ename": "FileNotFoundError",
     "evalue": "[Errno 2] No such file or directory: 'qqq'",
     "output_type": "error",
     "traceback": [
      "\u001b[0;31m---------------------------------------------------------------------------\u001b[0m",
      "\u001b[0;31mFileNotFoundError\u001b[0m                         Traceback (most recent call last)",
      "\u001b[0;32m<ipython-input-40-02144603c214>\u001b[0m in \u001b[0;36m<module>\u001b[0;34m\u001b[0m\n\u001b[1;32m      3\u001b[0m \u001b[0;32mif\u001b[0m \u001b[0manswer2_2\u001b[0m \u001b[0;34m==\u001b[0m \u001b[0;34m'y'\u001b[0m\u001b[0;34m:\u001b[0m\u001b[0;34m\u001b[0m\u001b[0;34m\u001b[0m\u001b[0m\n\u001b[1;32m      4\u001b[0m         \u001b[0manswer3_path\u001b[0m \u001b[0;34m=\u001b[0m \u001b[0minput\u001b[0m\u001b[0;34m(\u001b[0m\u001b[0;34m\"укажите путь и папку\"\u001b[0m\u001b[0;34m)\u001b[0m\u001b[0;34m\u001b[0m\u001b[0;34m\u001b[0m\u001b[0m\n\u001b[0;32m----> 5\u001b[0;31m         \u001b[0mos\u001b[0m\u001b[0;34m.\u001b[0m\u001b[0mchdir\u001b[0m\u001b[0;34m(\u001b[0m\u001b[0manswer3_path\u001b[0m\u001b[0;34m)\u001b[0m\u001b[0;34m\u001b[0m\u001b[0;34m\u001b[0m\u001b[0m\n\u001b[0m",
      "\u001b[0;31mFileNotFoundError\u001b[0m: [Errno 2] No such file or directory: 'qqq'"
     ]
    }
   ],
   "source": [
    "print(\"Текущий каталог:\", os.getcwd(), \"Изменить? y/n\")\n",
    "answer2_2 = input()\n",
    "if answer2_2 == 'y':\n",
    "        answer3_path = input(\"укажите путь и папку\")\n",
    "        os.chdir(answer3_path)"
   ]
  },
  {
   "cell_type": "code",
   "execution_count": 13,
   "metadata": {},
   "outputs": [
    {
     "name": "stdout",
     "output_type": "stream",
     "text": [
      " New edu programm \n",
      "\n",
      " Привет программист!\n",
      "\n"
     ]
    }
   ],
   "source": [
    "print(\" New edu programm\", '\\n''\\n', \"Привет программист!\"'\\n')"
   ]
  },
  {
   "cell_type": "code",
   "execution_count": 68,
   "metadata": {},
   "outputs": [
    {
     "data": {
      "text/plain": [
       "[scpufreq(current=3300, min=3300, max=3300)]"
      ]
     },
     "execution_count": 68,
     "metadata": {},
     "output_type": "execute_result"
    }
   ],
   "source": [
    "psutil.cpu_freq(percpu=True)"
   ]
  },
  {
   "cell_type": "code",
   "execution_count": null,
   "metadata": {},
   "outputs": [],
   "source": []
  },
  {
   "cell_type": "code",
   "execution_count": 8,
   "metadata": {},
   "outputs": [],
   "source": [
    "import os\n",
    "import psutil\n",
    "import sys\n",
    "import shutil"
   ]
  },
  {
   "cell_type": "code",
   "execution_count": null,
   "metadata": {},
   "outputs": [],
   "source": []
  }
 ],
 "metadata": {
  "kernelspec": {
   "display_name": "Python 3",
   "language": "python",
   "name": "python3"
  },
  "language_info": {
   "codemirror_mode": {
    "name": "ipython",
    "version": 3
   },
   "file_extension": ".py",
   "mimetype": "text/x-python",
   "name": "python",
   "nbconvert_exporter": "python",
   "pygments_lexer": "ipython3",
   "version": "3.7.1"
  }
 },
 "nbformat": 4,
 "nbformat_minor": 2
}
